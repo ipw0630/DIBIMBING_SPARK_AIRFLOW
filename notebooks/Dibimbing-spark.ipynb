{
 "cells": [
  {
   "cell_type": "code",
   "execution_count": 8,
   "id": "a867864e-ad0e-4175-9ba7-00028eba48a5",
   "metadata": {
    "tags": []
   },
   "outputs": [],
   "source": [
    "import pyspark\n",
    "import os\n",
    "import json\n",
    "import argparse\n",
    "\n",
    "from dotenv import load_dotenv\n",
    "from pathlib import Path\n",
    "from pyspark.sql.types import StructType\n",
    "from pyspark.sql.functions import to_timestamp,col,when"
   ]
  },
  {
   "cell_type": "markdown",
   "id": "efc4e293-7230-4d7c-bc4f-f8ba5d4e32e8",
   "metadata": {},
   "source": [
    "## Initialization"
   ]
  },
  {
   "cell_type": "code",
   "execution_count": 9,
   "id": "a8ac2902-1ba2-4f59-b3db-da15788af820",
   "metadata": {
    "tags": []
   },
   "outputs": [
    {
     "data": {
      "text/plain": [
       "True"
      ]
     },
     "execution_count": 9,
     "metadata": {},
     "output_type": "execute_result"
    }
   ],
   "source": [
    "dotenv_path = Path('/resources/.env')\n",
    "load_dotenv(dotenv_path=dotenv_path)"
   ]
  },
  {
   "cell_type": "code",
   "execution_count": 10,
   "id": "0ba0f442-5349-4f76-87e6-7147a1963dc7",
   "metadata": {
    "tags": []
   },
   "outputs": [],
   "source": [
    "postgres_host = os.getenv('POSTGRES_CONTAINER_NAME')\n",
    "postgres_dw_db = os.getenv('POSTGRES_DW_DB')\n",
    "postgres_user = os.getenv('POSTGRES_USER')\n",
    "postgres_password = os.getenv('POSTGRES_PASSWORD')"
   ]
  },
  {
   "cell_type": "code",
   "execution_count": 11,
   "id": "025b23a6-c84c-48d4-87e4-94d4a9953d1b",
   "metadata": {
    "tags": []
   },
   "outputs": [],
   "source": [
    "sparkcontext = pyspark.SparkContext.getOrCreate(conf=(\n",
    "        pyspark\n",
    "        .SparkConf()\n",
    "        .setAppName('Dibimbing')\n",
    "        .setMaster('local')\n",
    "        .set(\"spark.jars\", \"/opt/postgresql-42.2.18.jar\")\n",
    "    ))\n",
    "sparkcontext.setLogLevel(\"WARN\")\n",
    "\n",
    "spark = pyspark.sql.SparkSession(sparkcontext.getOrCreate())"
   ]
  },
  {
   "cell_type": "code",
   "execution_count": 12,
   "id": "5bc1fd6b-ed91-4843-af3a-14e7c6114b6a",
   "metadata": {
    "tags": []
   },
   "outputs": [
    {
     "data": {
      "text/html": [
       "\n",
       "            <div>\n",
       "                <p><b>SparkSession - in-memory</b></p>\n",
       "                \n",
       "        <div>\n",
       "            <p><b>SparkContext</b></p>\n",
       "\n",
       "            <p><a href=\"http://dibimbing-jupyter:4040\">Spark UI</a></p>\n",
       "\n",
       "            <dl>\n",
       "              <dt>Version</dt>\n",
       "                <dd><code>v3.3.2</code></dd>\n",
       "              <dt>Master</dt>\n",
       "                <dd><code>local</code></dd>\n",
       "              <dt>AppName</dt>\n",
       "                <dd><code>Dibimbing</code></dd>\n",
       "            </dl>\n",
       "        </div>\n",
       "        \n",
       "            </div>\n",
       "        "
      ],
      "text/plain": [
       "<pyspark.sql.session.SparkSession at 0x7fc286bdf3a0>"
      ]
     },
     "execution_count": 12,
     "metadata": {},
     "output_type": "execute_result"
    }
   ],
   "source": [
    "spark"
   ]
  },
  {
   "cell_type": "markdown",
   "id": "f486e199",
   "metadata": {
    "tags": []
   },
   "source": [
    "## UDF"
   ]
  },
  {
   "cell_type": "code",
   "execution_count": 15,
   "id": "d49cd137-c48f-4901-a0af-8b4628e0b8d4",
   "metadata": {
    "tags": []
   },
   "outputs": [],
   "source": [
    "from pyspark.sql.functions import col, udf, pandas_udf\n",
    "from pyspark.sql.types import IntegerType\n",
    "\n",
    "# Create a sample dataframe\n",
    "df = spark.createDataFrame([(1, \"apple\"), (2, \"banana\"), (3, \"orange\"), \n",
    "                            (4, \"apple\"), (5, \"banana\"), (6, \"orange\"),\n",
    "                            (7, \"apple\"), (8, \"banana\"), (9, \"orange\"),\n",
    "                            (10, \"apple\")], [\"id\", \"fruit\"])"
   ]
  },
  {
   "cell_type": "code",
   "execution_count": 16,
   "id": "08f54db5-1de8-45d0-b25c-569ab400ad52",
   "metadata": {
    "tags": []
   },
   "outputs": [
    {
     "name": "stdout",
     "output_type": "stream",
     "text": [
      "+---+------+------+\n",
      "| id| fruit|length|\n",
      "+---+------+------+\n",
      "|  1| apple|     5|\n",
      "|  2|banana|     6|\n",
      "|  3|orange|     6|\n",
      "|  4| apple|     5|\n",
      "|  5|banana|     6|\n",
      "|  6|orange|     6|\n",
      "|  7| apple|     5|\n",
      "|  8|banana|     6|\n",
      "|  9|orange|     6|\n",
      "| 10| apple|     5|\n",
      "+---+------+------+\n",
      "\n"
     ]
    }
   ],
   "source": [
    "# Define the UDF logic\n",
    "def string_length(s):\n",
    "    return len(s)\n",
    "\n",
    "# Define the Python UDF\n",
    "string_length_udf = udf(string_length, IntegerType())\n",
    "\n",
    "# Apply the Python UDF and display the result\n",
    "df1 = df.withColumn(\"length\", string_length_udf(col(\"fruit\")))\n",
    "df1.show()"
   ]
  },
  {
   "cell_type": "code",
   "execution_count": 17,
   "id": "007cc03d-d008-421f-a75c-bfcb2cc810e6",
   "metadata": {
    "tags": []
   },
   "outputs": [
    {
     "name": "stdout",
     "output_type": "stream",
     "text": [
      "+---+------+------+\n",
      "| id| fruit|length|\n",
      "+---+------+------+\n",
      "|  1| apple|     5|\n",
      "|  2|banana|     6|\n",
      "|  3|orange|     6|\n",
      "|  4| apple|     5|\n",
      "|  5|banana|     6|\n",
      "|  6|orange|     6|\n",
      "|  7| apple|     5|\n",
      "|  8|banana|     6|\n",
      "|  9|orange|     6|\n",
      "| 10| apple|     5|\n",
      "+---+------+------+\n",
      "\n"
     ]
    }
   ],
   "source": [
    "import pandas as pd\n",
    "\n",
    "# Define the Pandas UDF\n",
    "@pandas_udf(IntegerType())\n",
    "def string_length_pandas_udf(s: pd.Series) -> pd.Series:\n",
    "    return s.str.len()\n",
    "    \n",
    "# Apply the Pandas UDF and display the result\n",
    "df2 = df.withColumn(\"length\", string_length_pandas_udf(col(\"fruit\")))\n",
    "df2.show()"
   ]
  },
  {
   "cell_type": "markdown",
   "id": "1fc1a3c4",
   "metadata": {
    "tags": []
   },
   "source": [
    "## Join"
   ]
  },
  {
   "cell_type": "code",
   "execution_count": 18,
   "id": "0ba8408e",
   "metadata": {
    "tags": []
   },
   "outputs": [],
   "source": [
    "spark.conf.set(\"spark.sql.adaptive.enabled\", \"false\")"
   ]
  },
  {
   "cell_type": "code",
   "execution_count": 22,
   "id": "5debe3b7",
   "metadata": {
    "tags": []
   },
   "outputs": [],
   "source": [
    "# define schema for purchases dataset\n",
    "purchases_schema = \"order_id int, customer_id int, product_id int, quantity int, price float\"\n",
    "\n",
    "# create purchases dataframe\n",
    "purchases_data = [\n",
    "    (101, 1, 1, 2, 19.99),\n",
    "    (102, 2, 2, 1, 9.99),\n",
    "    (103, 3, 3, 1, 15.99),\n",
    "    (104, 1, 4, 1, 5.99),\n",
    "    (105, 2, 5, 3, 12.99),\n",
    "    (106, 3, 6, 2, 9.99),\n",
    "    (107, 4, 7, 1, 11.99),\n",
    "    (108, 1, 8, 2, 14.99),\n",
    "    (109, 2, 9, 1, 9.99),\n",
    "    (110, 3, 10, 1, 19.99)\n",
    "]\n",
    "purchases_df = spark.createDataFrame(purchases_data, schema=purchases_schema)\n",
    "\n",
    "# define schema for customers dataset\n",
    "customers_schema = \"customer_id int, name string, email string\"\n",
    "\n",
    "# create customers dataframe\n",
    "customers_data = [\n",
    "    (1, \"John Doe\", \"johndoe@example.com\"),\n",
    "    (2, \"Jane Smith\", \"janesmith@example.com\"),\n",
    "    (3, \"Bob Johnson\", \"bobjohnson@example.com\"),\n",
    "    (4, \"Sue Lee\", \"suelee@example.com\"),\n",
    "    (5, \"Suikim Lee\", \"suekimlee@example.com\")\n",
    "]\n",
    "customers_df = spark.createDataFrame(customers_data, schema=customers_schema)\n",
    "\n",
    "# define schema for products dataset\n",
    "products_schema = \"product_id int, name string, price float\"\n",
    "\n",
    "# create products dataframe\n",
    "products_data = [\n",
    "    (1, \"Product A\", 19.99),\n",
    "    (2, \"Product B\", 9.99),\n",
    "    (3, \"Product C\", 15.99),\n",
    "    (4, \"Product D\", 5.99),\n",
    "    (5, \"Product E\", 12.99),\n",
    "    (6, \"Product F\", 9.99),\n",
    "    (7, \"Product G\", 11.99),\n",
    "    (8, \"Product H\", 14.99),\n",
    "    (9, \"Product I\", 9.99),\n",
    "    (10, \"Product J\", 19.99)\n",
    "]\n",
    "products_df = spark.createDataFrame(products_data, schema=products_schema)"
   ]
  },
  {
   "cell_type": "code",
   "execution_count": 23,
   "id": "a819a7f4-4524-470e-9126-d92d4916f7ec",
   "metadata": {
    "tags": []
   },
   "outputs": [
    {
     "name": "stdout",
     "output_type": "stream",
     "text": [
      "+-----------+-----------+--------------------+\n",
      "|customer_id|       name|               email|\n",
      "+-----------+-----------+--------------------+\n",
      "|          1|   John Doe| johndoe@example.com|\n",
      "|          2| Jane Smith|janesmith@example...|\n",
      "|          3|Bob Johnson|bobjohnson@exampl...|\n",
      "|          4|    Sue Lee|  suelee@example.com|\n",
      "|          5| Suikim Lee|suekimlee@example...|\n",
      "+-----------+-----------+--------------------+\n",
      "\n"
     ]
    }
   ],
   "source": [
    "customers_df.show()"
   ]
  },
  {
   "cell_type": "code",
   "execution_count": 24,
   "id": "ee4acd54",
   "metadata": {
    "tags": []
   },
   "outputs": [],
   "source": [
    "\n",
    "# set join preferences\n",
    "spark.conf.set(\"spark.sql.join.preferSortMergeJoin\", \"true\")\n",
    "spark.conf.set(\"spark.sql.autoBroadcastJoinThreshold\", \"-1\")\n",
    "\n",
    "# perform sort merge join\n",
    "merged_df = (\n",
    "    purchases_df\n",
    "    .join(customers_df, \"customer_id\")\n",
    "    .join(products_df, \"product_id\")\n",
    ")"
   ]
  },
  {
   "cell_type": "code",
   "execution_count": 26,
   "id": "4da946f4-663f-42a6-a0f6-5d59e8ba6666",
   "metadata": {
    "tags": []
   },
   "outputs": [
    {
     "name": "stdout",
     "output_type": "stream",
     "text": [
      "+----------+-----------+--------+--------+-----+-----------+--------------------+---------+-----+\n",
      "|product_id|customer_id|order_id|quantity|price|       name|               email|     name|price|\n",
      "+----------+-----------+--------+--------+-----+-----------+--------------------+---------+-----+\n",
      "|         1|          1|     101|       2|19.99|   John Doe| johndoe@example.com|Product A|19.99|\n",
      "|         6|          3|     106|       2| 9.99|Bob Johnson|bobjohnson@exampl...|Product F| 9.99|\n",
      "|         3|          3|     103|       1|15.99|Bob Johnson|bobjohnson@exampl...|Product C|15.99|\n",
      "|         5|          2|     105|       3|12.99| Jane Smith|janesmith@example...|Product E|12.99|\n",
      "|         9|          2|     109|       1| 9.99| Jane Smith|janesmith@example...|Product I| 9.99|\n",
      "|         4|          1|     104|       1| 5.99|   John Doe| johndoe@example.com|Product D| 5.99|\n",
      "|         8|          1|     108|       2|14.99|   John Doe| johndoe@example.com|Product H|14.99|\n",
      "|         7|          4|     107|       1|11.99|    Sue Lee|  suelee@example.com|Product G|11.99|\n",
      "|        10|          3|     110|       1|19.99|Bob Johnson|bobjohnson@exampl...|Product J|19.99|\n",
      "|         2|          2|     102|       1| 9.99| Jane Smith|janesmith@example...|Product B| 9.99|\n",
      "+----------+-----------+--------+--------+-----+-----------+--------------------+---------+-----+\n",
      "\n"
     ]
    }
   ],
   "source": [
    "merged_df.show()"
   ]
  },
  {
   "cell_type": "code",
   "execution_count": 27,
   "id": "7a3fc643",
   "metadata": {
    "tags": []
   },
   "outputs": [
    {
     "name": "stdout",
     "output_type": "stream",
     "text": [
      "+----------+-----------+--------+--------+-----+-----------+--------------------+---------+-----+\n",
      "|product_id|customer_id|order_id|quantity|price|       name|               email|     name|price|\n",
      "+----------+-----------+--------+--------+-----+-----------+--------------------+---------+-----+\n",
      "|         1|          1|     101|       2|19.99|   John Doe| johndoe@example.com|Product A|19.99|\n",
      "|         2|          2|     102|       1| 9.99| Jane Smith|janesmith@example...|Product B| 9.99|\n",
      "|         3|          3|     103|       1|15.99|Bob Johnson|bobjohnson@exampl...|Product C|15.99|\n",
      "|         4|          1|     104|       1| 5.99|   John Doe| johndoe@example.com|Product D| 5.99|\n",
      "|         5|          2|     105|       3|12.99| Jane Smith|janesmith@example...|Product E|12.99|\n",
      "+----------+-----------+--------+--------+-----+-----------+--------------------+---------+-----+\n",
      "only showing top 5 rows\n",
      "\n"
     ]
    }
   ],
   "source": [
    "from pyspark.sql.functions import broadcast\n",
    "\n",
    "# set join preferences\n",
    "spark.conf.set(\"spark.sql.join.preferSortMergeJoin\", \"false\")\n",
    "spark.conf.set(\"spark.sql.autoBroadcastJoinThreshold\", \"1000000000\")\n",
    "\n",
    "# perform broadcast hash join\n",
    "broadcast_df = purchases_df.join(broadcast(customers_df), \"customer_id\").join(broadcast(products_df), \"product_id\")\n",
    "broadcast_df.show(5)"
   ]
  },
  {
   "cell_type": "code",
   "execution_count": 28,
   "id": "ee11a5e4-5b22-4869-9350-fa86a4dc73e5",
   "metadata": {
    "tags": []
   },
   "outputs": [
    {
     "name": "stdout",
     "output_type": "stream",
     "text": [
      "+----------+-----------+--------+--------+-----+--------+-------------------+---------+-----+\n",
      "|product_id|customer_id|order_id|quantity|price|    name|              email|     name|price|\n",
      "+----------+-----------+--------+--------+-----+--------+-------------------+---------+-----+\n",
      "|         1|          1|     101|       2|19.99|John Doe|johndoe@example.com|Product A|19.99|\n",
      "+----------+-----------+--------+--------+-----+--------+-------------------+---------+-----+\n",
      "only showing top 1 row\n",
      "\n"
     ]
    }
   ],
   "source": [
    "broadcast_df.show(1)"
   ]
  },
  {
   "cell_type": "markdown",
   "id": "1c4e7b6f",
   "metadata": {
    "tags": []
   },
   "source": [
    "## Cache & Persist"
   ]
  },
  {
   "cell_type": "code",
   "execution_count": 16,
   "id": "6d34ddc9",
   "metadata": {
    "tags": []
   },
   "outputs": [
    {
     "name": "stdout",
     "output_type": "stream",
     "text": [
      "+----------+-----------+--------+--------+-----+-----------+--------------------+---------+-----+\n",
      "|product_id|customer_id|order_id|quantity|price|       name|               email|     name|price|\n",
      "+----------+-----------+--------+--------+-----+-----------+--------------------+---------+-----+\n",
      "|         1|          1|     101|       2|19.99|   John Doe| johndoe@example.com|Product A|19.99|\n",
      "|         2|          2|     102|       1| 9.99| Jane Smith|janesmith@example...|Product B| 9.99|\n",
      "|         3|          3|     103|       1|15.99|Bob Johnson|bobjohnson@exampl...|Product C|15.99|\n",
      "|         4|          1|     104|       1| 5.99|   John Doe| johndoe@example.com|Product D| 5.99|\n",
      "|         5|          2|     105|       3|12.99| Jane Smith|janesmith@example...|Product E|12.99|\n",
      "|         6|          3|     106|       2| 9.99|Bob Johnson|bobjohnson@exampl...|Product F| 9.99|\n",
      "|         7|          4|     107|       1|11.99|    Sue Lee|  suelee@example.com|Product G|11.99|\n",
      "|         8|          1|     108|       2|14.99|   John Doe| johndoe@example.com|Product H|14.99|\n",
      "|         9|          2|     109|       1| 9.99| Jane Smith|janesmith@example...|Product I| 9.99|\n",
      "|        10|          3|     110|       1|19.99|Bob Johnson|bobjohnson@exampl...|Product J|19.99|\n",
      "+----------+-----------+--------+--------+-----+-----------+--------------------+---------+-----+\n",
      "\n"
     ]
    }
   ],
   "source": [
    "broadcast_df.show()"
   ]
  },
  {
   "cell_type": "code",
   "execution_count": 17,
   "id": "29762444",
   "metadata": {
    "tags": []
   },
   "outputs": [
    {
     "data": {
      "text/plain": [
       "DataFrame[product_id: int, customer_id: int, order_id: int, quantity: int, price: float, name: string, email: string, name: string, price: float]"
      ]
     },
     "execution_count": 17,
     "metadata": {},
     "output_type": "execute_result"
    }
   ],
   "source": [
    "# cache the purchases DataFrame\n",
    "# broadcast_df.cache()\n",
    "broadcast_df.unpersist()"
   ]
  },
  {
   "cell_type": "code",
   "execution_count": 18,
   "id": "c5362722",
   "metadata": {
    "tags": []
   },
   "outputs": [],
   "source": [
    "from pyspark.sql.functions import col\n",
    "\n",
    "# calculate the total purchase amount for each store using the cached DataFrame\n",
    "store_purchase_totals = (\n",
    "    purchases_df\n",
    "    .withColumn(\"total_price\",col(\"quantity\")*col(\"price\"))\n",
    "    .groupBy(\"customer_id\")\n",
    "    .agg({\"total_price\":\"sum\"}).alias(\"total_purchase_amount\")\n",
    ")"
   ]
  },
  {
   "cell_type": "code",
   "execution_count": 19,
   "id": "d393ce0b",
   "metadata": {
    "tags": []
   },
   "outputs": [
    {
     "data": {
      "text/plain": [
       "DataFrame[customer_id: int, sum(total_price): double]"
      ]
     },
     "execution_count": 19,
     "metadata": {},
     "output_type": "execute_result"
    }
   ],
   "source": [
    "# persist the store_purchase_totals DataFrame to disk\n",
    "store_purchase_totals.persist(pyspark.StorageLevel.DISK_ONLY)\n",
    "store_purchase_totals.persist(pyspark.StorageLevel.MEMORY_ONLY)\n"
   ]
  },
  {
   "cell_type": "code",
   "execution_count": 20,
   "id": "3cd6c04e",
   "metadata": {
    "tags": []
   },
   "outputs": [
    {
     "name": "stdout",
     "output_type": "stream",
     "text": [
      "+-----------+------------------+\n",
      "|customer_id|  sum(total_price)|\n",
      "+-----------+------------------+\n",
      "|          1| 75.94999885559082|\n",
      "|          3|55.959999084472656|\n",
      "|          4|11.989999771118164|\n",
      "|          2| 58.95000076293945|\n",
      "+-----------+------------------+\n",
      "\n"
     ]
    }
   ],
   "source": [
    "# print the results\n",
    "store_purchase_totals.show()"
   ]
  },
  {
   "cell_type": "code",
   "execution_count": 21,
   "id": "a61f1045-5d26-483c-b305-6afbbf81eda7",
   "metadata": {
    "tags": []
   },
   "outputs": [
    {
     "name": "stdout",
     "output_type": "stream",
     "text": [
      "+-----------+------------------+\n",
      "|customer_id|  sum(total_price)|\n",
      "+-----------+------------------+\n",
      "|          1| 75.94999885559082|\n",
      "|          3|55.959999084472656|\n",
      "|          4|11.989999771118164|\n",
      "|          2| 58.95000076293945|\n",
      "+-----------+------------------+\n",
      "\n"
     ]
    }
   ],
   "source": [
    "# print the results\n",
    "store_purchase_totals.show()"
   ]
  },
  {
   "cell_type": "code",
   "execution_count": 17,
   "id": "1a7311ae",
   "metadata": {
    "tags": []
   },
   "outputs": [
    {
     "data": {
      "text/plain": [
       "DataFrame[customer_id: int, sum(total_price): double]"
      ]
     },
     "execution_count": 17,
     "metadata": {},
     "output_type": "execute_result"
    }
   ],
   "source": [
    "# unpersist the store_purchase_totals DataFrame to free up memory\n",
    "store_purchase_totals.unpersist()"
   ]
  },
  {
   "cell_type": "markdown",
   "id": "32239315",
   "metadata": {},
   "source": [
    "Balik lagi ke collab"
   ]
  },
  {
   "cell_type": "code",
   "execution_count": 31,
   "id": "a7eea333-8a16-4dbe-8730-7213f0dbe9b0",
   "metadata": {
    "tags": []
   },
   "outputs": [
    {
     "name": "stdout",
     "output_type": "stream",
     "text": [
      "+-----------+-----------+--------------------+\n",
      "|customer_id|       name|               email|\n",
      "+-----------+-----------+--------------------+\n",
      "|          1|   John Doe| johndoe@example.com|\n",
      "|          2| Jane Smith|janesmith@example...|\n",
      "|          3|Bob Johnson|bobjohnson@exampl...|\n",
      "|          4|    Sue Lee|  suelee@example.com|\n",
      "+-----------+-----------+--------------------+\n",
      "\n"
     ]
    }
   ],
   "source": [
    "customers_df.show()"
   ]
  },
  {
   "cell_type": "markdown",
   "id": "07bb0765-642a-4bda-97ed-508cc1ae491a",
   "metadata": {
    "tags": []
   },
   "source": [
    "# JDBC"
   ]
  },
  {
   "cell_type": "code",
   "execution_count": 38,
   "id": "b9a81123-e2db-455a-a118-62ab7c9a9dd6",
   "metadata": {
    "tags": []
   },
   "outputs": [],
   "source": [
    "jdbc_url = f'jdbc:postgresql://{postgres_host}/{postgres_dw_db}'\n",
    "jdbc_properties = {\n",
    "    'user': postgres_user,\n",
    "    'password': postgres_password,\n",
    "    'driver': 'org.postgresql.Driver',\n",
    "    'stringtype': 'unspecified'\n",
    "}"
   ]
  },
  {
   "cell_type": "code",
   "execution_count": 39,
   "id": "e987d100-52dd-48dc-a3da-3e5948f983d7",
   "metadata": {
    "tags": []
   },
   "outputs": [],
   "source": [
    "customer_df = spark.read.jdbc(\n",
    "    jdbc_url,\n",
    "    'public.retail',\n",
    "    properties=jdbc_properties\n",
    ")"
   ]
  },
  {
   "cell_type": "code",
   "execution_count": 40,
   "id": "3fe52584-7aba-4be9-999c-ca33597ab7ea",
   "metadata": {
    "tags": []
   },
   "outputs": [
    {
     "ename": "Py4JJavaError",
     "evalue": "An error occurred while calling o264.jdbc.\n: org.postgresql.util.PSQLException: ERROR: relation \"public.sample_retail\" does not exist\n  Position: 15\n\tat org.postgresql.core.v3.QueryExecutorImpl.receiveErrorResponse(QueryExecutorImpl.java:2553)\n\tat org.postgresql.core.v3.QueryExecutorImpl.processResults(QueryExecutorImpl.java:2285)\n\tat org.postgresql.core.v3.QueryExecutorImpl.execute(QueryExecutorImpl.java:323)\n\tat org.postgresql.jdbc.PgStatement.executeInternal(PgStatement.java:473)\n\tat org.postgresql.jdbc.PgStatement.execute(PgStatement.java:393)\n\tat org.postgresql.jdbc.PgPreparedStatement.executeWithFlags(PgPreparedStatement.java:164)\n\tat org.postgresql.jdbc.PgPreparedStatement.executeQuery(PgPreparedStatement.java:114)\n\tat org.apache.spark.sql.execution.datasources.jdbc.JDBCRDD$.getQueryOutputSchema(JDBCRDD.scala:68)\n\tat org.apache.spark.sql.execution.datasources.jdbc.JDBCRDD$.resolveTable(JDBCRDD.scala:58)\n\tat org.apache.spark.sql.execution.datasources.jdbc.JDBCRelation$.getSchema(JDBCRelation.scala:242)\n\tat org.apache.spark.sql.execution.datasources.jdbc.JdbcRelationProvider.createRelation(JdbcRelationProvider.scala:37)\n\tat org.apache.spark.sql.execution.datasources.DataSource.resolveRelation(DataSource.scala:350)\n\tat org.apache.spark.sql.DataFrameReader.loadV1Source(DataFrameReader.scala:228)\n\tat org.apache.spark.sql.DataFrameReader.$anonfun$load$2(DataFrameReader.scala:210)\n\tat scala.Option.getOrElse(Option.scala:189)\n\tat org.apache.spark.sql.DataFrameReader.load(DataFrameReader.scala:210)\n\tat org.apache.spark.sql.DataFrameReader.load(DataFrameReader.scala:171)\n\tat org.apache.spark.sql.DataFrameReader.jdbc(DataFrameReader.scala:248)\n\tat java.base/jdk.internal.reflect.NativeMethodAccessorImpl.invoke0(Native Method)\n\tat java.base/jdk.internal.reflect.NativeMethodAccessorImpl.invoke(NativeMethodAccessorImpl.java:77)\n\tat java.base/jdk.internal.reflect.DelegatingMethodAccessorImpl.invoke(DelegatingMethodAccessorImpl.java:43)\n\tat java.base/java.lang.reflect.Method.invoke(Method.java:568)\n\tat py4j.reflection.MethodInvoker.invoke(MethodInvoker.java:244)\n\tat py4j.reflection.ReflectionEngine.invoke(ReflectionEngine.java:357)\n\tat py4j.Gateway.invoke(Gateway.java:282)\n\tat py4j.commands.AbstractCommand.invokeMethod(AbstractCommand.java:132)\n\tat py4j.commands.CallCommand.execute(CallCommand.java:79)\n\tat py4j.ClientServerConnection.waitForCommands(ClientServerConnection.java:182)\n\tat py4j.ClientServerConnection.run(ClientServerConnection.java:106)\n\tat java.base/java.lang.Thread.run(Thread.java:833)\n",
     "output_type": "error",
     "traceback": [
      "\u001b[0;31m---------------------------------------------------------------------------\u001b[0m",
      "\u001b[0;31mPy4JJavaError\u001b[0m                             Traceback (most recent call last)",
      "Cell \u001b[0;32mIn[40], line 1\u001b[0m\n\u001b[0;32m----> 1\u001b[0m retail_df \u001b[38;5;241m=\u001b[39m \u001b[43mspark\u001b[49m\u001b[38;5;241;43m.\u001b[39;49m\u001b[43mread\u001b[49m\u001b[38;5;241;43m.\u001b[39;49m\u001b[43mjdbc\u001b[49m\u001b[43m(\u001b[49m\n\u001b[1;32m      2\u001b[0m \u001b[43m    \u001b[49m\u001b[43mjdbc_url\u001b[49m\u001b[43m,\u001b[49m\n\u001b[1;32m      3\u001b[0m \u001b[43m    \u001b[49m\u001b[38;5;124;43m'\u001b[39;49m\u001b[38;5;124;43mpublic.sample_retail\u001b[39;49m\u001b[38;5;124;43m'\u001b[39;49m\u001b[43m,\u001b[49m\n\u001b[1;32m      4\u001b[0m \u001b[43m    \u001b[49m\u001b[43mproperties\u001b[49m\u001b[38;5;241;43m=\u001b[39;49m\u001b[43mjdbc_properties\u001b[49m\n\u001b[1;32m      5\u001b[0m \u001b[43m)\u001b[49m\n",
      "File \u001b[0;32m/usr/local/spark/python/pyspark/sql/readwriter.py:716\u001b[0m, in \u001b[0;36mDataFrameReader.jdbc\u001b[0;34m(self, url, table, column, lowerBound, upperBound, numPartitions, predicates, properties)\u001b[0m\n\u001b[1;32m    714\u001b[0m     jpredicates \u001b[38;5;241m=\u001b[39m utils\u001b[38;5;241m.\u001b[39mtoJArray(gateway, gateway\u001b[38;5;241m.\u001b[39mjvm\u001b[38;5;241m.\u001b[39mjava\u001b[38;5;241m.\u001b[39mlang\u001b[38;5;241m.\u001b[39mString, predicates)\n\u001b[1;32m    715\u001b[0m     \u001b[38;5;28;01mreturn\u001b[39;00m \u001b[38;5;28mself\u001b[39m\u001b[38;5;241m.\u001b[39m_df(\u001b[38;5;28mself\u001b[39m\u001b[38;5;241m.\u001b[39m_jreader\u001b[38;5;241m.\u001b[39mjdbc(url, table, jpredicates, jprop))\n\u001b[0;32m--> 716\u001b[0m \u001b[38;5;28;01mreturn\u001b[39;00m \u001b[38;5;28mself\u001b[39m\u001b[38;5;241m.\u001b[39m_df(\u001b[38;5;28;43mself\u001b[39;49m\u001b[38;5;241;43m.\u001b[39;49m\u001b[43m_jreader\u001b[49m\u001b[38;5;241;43m.\u001b[39;49m\u001b[43mjdbc\u001b[49m\u001b[43m(\u001b[49m\u001b[43murl\u001b[49m\u001b[43m,\u001b[49m\u001b[43m \u001b[49m\u001b[43mtable\u001b[49m\u001b[43m,\u001b[49m\u001b[43m \u001b[49m\u001b[43mjprop\u001b[49m\u001b[43m)\u001b[49m)\n",
      "File \u001b[0;32m/usr/local/spark/python/lib/py4j-0.10.9.5-src.zip/py4j/java_gateway.py:1321\u001b[0m, in \u001b[0;36mJavaMember.__call__\u001b[0;34m(self, *args)\u001b[0m\n\u001b[1;32m   1315\u001b[0m command \u001b[38;5;241m=\u001b[39m proto\u001b[38;5;241m.\u001b[39mCALL_COMMAND_NAME \u001b[38;5;241m+\u001b[39m\\\n\u001b[1;32m   1316\u001b[0m     \u001b[38;5;28mself\u001b[39m\u001b[38;5;241m.\u001b[39mcommand_header \u001b[38;5;241m+\u001b[39m\\\n\u001b[1;32m   1317\u001b[0m     args_command \u001b[38;5;241m+\u001b[39m\\\n\u001b[1;32m   1318\u001b[0m     proto\u001b[38;5;241m.\u001b[39mEND_COMMAND_PART\n\u001b[1;32m   1320\u001b[0m answer \u001b[38;5;241m=\u001b[39m \u001b[38;5;28mself\u001b[39m\u001b[38;5;241m.\u001b[39mgateway_client\u001b[38;5;241m.\u001b[39msend_command(command)\n\u001b[0;32m-> 1321\u001b[0m return_value \u001b[38;5;241m=\u001b[39m \u001b[43mget_return_value\u001b[49m\u001b[43m(\u001b[49m\n\u001b[1;32m   1322\u001b[0m \u001b[43m    \u001b[49m\u001b[43manswer\u001b[49m\u001b[43m,\u001b[49m\u001b[43m \u001b[49m\u001b[38;5;28;43mself\u001b[39;49m\u001b[38;5;241;43m.\u001b[39;49m\u001b[43mgateway_client\u001b[49m\u001b[43m,\u001b[49m\u001b[43m \u001b[49m\u001b[38;5;28;43mself\u001b[39;49m\u001b[38;5;241;43m.\u001b[39;49m\u001b[43mtarget_id\u001b[49m\u001b[43m,\u001b[49m\u001b[43m \u001b[49m\u001b[38;5;28;43mself\u001b[39;49m\u001b[38;5;241;43m.\u001b[39;49m\u001b[43mname\u001b[49m\u001b[43m)\u001b[49m\n\u001b[1;32m   1324\u001b[0m \u001b[38;5;28;01mfor\u001b[39;00m temp_arg \u001b[38;5;129;01min\u001b[39;00m temp_args:\n\u001b[1;32m   1325\u001b[0m     temp_arg\u001b[38;5;241m.\u001b[39m_detach()\n",
      "File \u001b[0;32m/usr/local/spark/python/pyspark/sql/utils.py:190\u001b[0m, in \u001b[0;36mcapture_sql_exception.<locals>.deco\u001b[0;34m(*a, **kw)\u001b[0m\n\u001b[1;32m    188\u001b[0m \u001b[38;5;28;01mdef\u001b[39;00m \u001b[38;5;21mdeco\u001b[39m(\u001b[38;5;241m*\u001b[39ma: Any, \u001b[38;5;241m*\u001b[39m\u001b[38;5;241m*\u001b[39mkw: Any) \u001b[38;5;241m-\u001b[39m\u001b[38;5;241m>\u001b[39m Any:\n\u001b[1;32m    189\u001b[0m     \u001b[38;5;28;01mtry\u001b[39;00m:\n\u001b[0;32m--> 190\u001b[0m         \u001b[38;5;28;01mreturn\u001b[39;00m \u001b[43mf\u001b[49m\u001b[43m(\u001b[49m\u001b[38;5;241;43m*\u001b[39;49m\u001b[43ma\u001b[49m\u001b[43m,\u001b[49m\u001b[43m \u001b[49m\u001b[38;5;241;43m*\u001b[39;49m\u001b[38;5;241;43m*\u001b[39;49m\u001b[43mkw\u001b[49m\u001b[43m)\u001b[49m\n\u001b[1;32m    191\u001b[0m     \u001b[38;5;28;01mexcept\u001b[39;00m Py4JJavaError \u001b[38;5;28;01mas\u001b[39;00m e:\n\u001b[1;32m    192\u001b[0m         converted \u001b[38;5;241m=\u001b[39m convert_exception(e\u001b[38;5;241m.\u001b[39mjava_exception)\n",
      "File \u001b[0;32m/usr/local/spark/python/lib/py4j-0.10.9.5-src.zip/py4j/protocol.py:326\u001b[0m, in \u001b[0;36mget_return_value\u001b[0;34m(answer, gateway_client, target_id, name)\u001b[0m\n\u001b[1;32m    324\u001b[0m value \u001b[38;5;241m=\u001b[39m OUTPUT_CONVERTER[\u001b[38;5;28mtype\u001b[39m](answer[\u001b[38;5;241m2\u001b[39m:], gateway_client)\n\u001b[1;32m    325\u001b[0m \u001b[38;5;28;01mif\u001b[39;00m answer[\u001b[38;5;241m1\u001b[39m] \u001b[38;5;241m==\u001b[39m REFERENCE_TYPE:\n\u001b[0;32m--> 326\u001b[0m     \u001b[38;5;28;01mraise\u001b[39;00m Py4JJavaError(\n\u001b[1;32m    327\u001b[0m         \u001b[38;5;124m\"\u001b[39m\u001b[38;5;124mAn error occurred while calling \u001b[39m\u001b[38;5;132;01m{0}\u001b[39;00m\u001b[38;5;132;01m{1}\u001b[39;00m\u001b[38;5;132;01m{2}\u001b[39;00m\u001b[38;5;124m.\u001b[39m\u001b[38;5;130;01m\\n\u001b[39;00m\u001b[38;5;124m\"\u001b[39m\u001b[38;5;241m.\u001b[39m\n\u001b[1;32m    328\u001b[0m         \u001b[38;5;28mformat\u001b[39m(target_id, \u001b[38;5;124m\"\u001b[39m\u001b[38;5;124m.\u001b[39m\u001b[38;5;124m\"\u001b[39m, name), value)\n\u001b[1;32m    329\u001b[0m \u001b[38;5;28;01melse\u001b[39;00m:\n\u001b[1;32m    330\u001b[0m     \u001b[38;5;28;01mraise\u001b[39;00m Py4JError(\n\u001b[1;32m    331\u001b[0m         \u001b[38;5;124m\"\u001b[39m\u001b[38;5;124mAn error occurred while calling \u001b[39m\u001b[38;5;132;01m{0}\u001b[39;00m\u001b[38;5;132;01m{1}\u001b[39;00m\u001b[38;5;132;01m{2}\u001b[39;00m\u001b[38;5;124m. Trace:\u001b[39m\u001b[38;5;130;01m\\n\u001b[39;00m\u001b[38;5;132;01m{3}\u001b[39;00m\u001b[38;5;130;01m\\n\u001b[39;00m\u001b[38;5;124m\"\u001b[39m\u001b[38;5;241m.\u001b[39m\n\u001b[1;32m    332\u001b[0m         \u001b[38;5;28mformat\u001b[39m(target_id, \u001b[38;5;124m\"\u001b[39m\u001b[38;5;124m.\u001b[39m\u001b[38;5;124m\"\u001b[39m, name, value))\n",
      "\u001b[0;31mPy4JJavaError\u001b[0m: An error occurred while calling o264.jdbc.\n: org.postgresql.util.PSQLException: ERROR: relation \"public.sample_retail\" does not exist\n  Position: 15\n\tat org.postgresql.core.v3.QueryExecutorImpl.receiveErrorResponse(QueryExecutorImpl.java:2553)\n\tat org.postgresql.core.v3.QueryExecutorImpl.processResults(QueryExecutorImpl.java:2285)\n\tat org.postgresql.core.v3.QueryExecutorImpl.execute(QueryExecutorImpl.java:323)\n\tat org.postgresql.jdbc.PgStatement.executeInternal(PgStatement.java:473)\n\tat org.postgresql.jdbc.PgStatement.execute(PgStatement.java:393)\n\tat org.postgresql.jdbc.PgPreparedStatement.executeWithFlags(PgPreparedStatement.java:164)\n\tat org.postgresql.jdbc.PgPreparedStatement.executeQuery(PgPreparedStatement.java:114)\n\tat org.apache.spark.sql.execution.datasources.jdbc.JDBCRDD$.getQueryOutputSchema(JDBCRDD.scala:68)\n\tat org.apache.spark.sql.execution.datasources.jdbc.JDBCRDD$.resolveTable(JDBCRDD.scala:58)\n\tat org.apache.spark.sql.execution.datasources.jdbc.JDBCRelation$.getSchema(JDBCRelation.scala:242)\n\tat org.apache.spark.sql.execution.datasources.jdbc.JdbcRelationProvider.createRelation(JdbcRelationProvider.scala:37)\n\tat org.apache.spark.sql.execution.datasources.DataSource.resolveRelation(DataSource.scala:350)\n\tat org.apache.spark.sql.DataFrameReader.loadV1Source(DataFrameReader.scala:228)\n\tat org.apache.spark.sql.DataFrameReader.$anonfun$load$2(DataFrameReader.scala:210)\n\tat scala.Option.getOrElse(Option.scala:189)\n\tat org.apache.spark.sql.DataFrameReader.load(DataFrameReader.scala:210)\n\tat org.apache.spark.sql.DataFrameReader.load(DataFrameReader.scala:171)\n\tat org.apache.spark.sql.DataFrameReader.jdbc(DataFrameReader.scala:248)\n\tat java.base/jdk.internal.reflect.NativeMethodAccessorImpl.invoke0(Native Method)\n\tat java.base/jdk.internal.reflect.NativeMethodAccessorImpl.invoke(NativeMethodAccessorImpl.java:77)\n\tat java.base/jdk.internal.reflect.DelegatingMethodAccessorImpl.invoke(DelegatingMethodAccessorImpl.java:43)\n\tat java.base/java.lang.reflect.Method.invoke(Method.java:568)\n\tat py4j.reflection.MethodInvoker.invoke(MethodInvoker.java:244)\n\tat py4j.reflection.ReflectionEngine.invoke(ReflectionEngine.java:357)\n\tat py4j.Gateway.invoke(Gateway.java:282)\n\tat py4j.commands.AbstractCommand.invokeMethod(AbstractCommand.java:132)\n\tat py4j.commands.CallCommand.execute(CallCommand.java:79)\n\tat py4j.ClientServerConnection.waitForCommands(ClientServerConnection.java:182)\n\tat py4j.ClientServerConnection.run(ClientServerConnection.java:106)\n\tat java.base/java.lang.Thread.run(Thread.java:833)\n"
     ]
    }
   ],
   "source": [
    "retail_df = spark.read.jdbc(\n",
    "    jdbc_url,\n",
    "    'public.sample_retail',\n",
    "    properties=jdbc_properties\n",
    ")"
   ]
  },
  {
   "cell_type": "code",
   "execution_count": 34,
   "id": "02307c9f-e3ae-43b5-bb8e-aa6a8ca768bd",
   "metadata": {
    "tags": []
   },
   "outputs": [],
   "source": [
    "(\n",
    "    customer_df\n",
    "    .limit(5)\n",
    "    .write\n",
    "    .mode(\"append\")\n",
    "    .option(\"truncate\", \"true\")\n",
    "    .jdbc(\n",
    "        jdbc_url,\n",
    "        'public.customer',\n",
    "        properties=jdbc_properties\n",
    "    )\n",
    ")"
   ]
  },
  {
   "cell_type": "code",
   "execution_count": 36,
   "id": "b485650f-429f-4b85-ada4-3bb9cb5cdae2",
   "metadata": {
    "tags": []
   },
   "outputs": [
    {
     "ename": "NameError",
     "evalue": "name 'retail_df' is not defined",
     "output_type": "error",
     "traceback": [
      "\u001b[0;31m---------------------------------------------------------------------------\u001b[0m",
      "\u001b[0;31mNameError\u001b[0m                                 Traceback (most recent call last)",
      "Cell \u001b[0;32mIn[36], line 2\u001b[0m\n\u001b[1;32m      1\u001b[0m (\n\u001b[0;32m----> 2\u001b[0m     \u001b[43mretail_df\u001b[49m\n\u001b[1;32m      3\u001b[0m     \u001b[38;5;241m.\u001b[39mlimit(\u001b[38;5;241m10\u001b[39m)\n\u001b[1;32m      4\u001b[0m     \u001b[38;5;241m.\u001b[39mwrite\n\u001b[1;32m      5\u001b[0m     \u001b[38;5;241m.\u001b[39mmode(\u001b[38;5;124m\"\u001b[39m\u001b[38;5;124mappend\u001b[39m\u001b[38;5;124m\"\u001b[39m)\n\u001b[1;32m      6\u001b[0m     \u001b[38;5;241m.\u001b[39moption(\u001b[38;5;124m\"\u001b[39m\u001b[38;5;124mtruncate\u001b[39m\u001b[38;5;124m\"\u001b[39m, \u001b[38;5;124m\"\u001b[39m\u001b[38;5;124mtrue\u001b[39m\u001b[38;5;124m\"\u001b[39m)\n\u001b[1;32m      7\u001b[0m     \u001b[38;5;241m.\u001b[39mjdbc(\n\u001b[1;32m      8\u001b[0m         jdbc_url,\n\u001b[1;32m      9\u001b[0m         \u001b[38;5;124m'\u001b[39m\u001b[38;5;124mpublic.sample_retail\u001b[39m\u001b[38;5;124m'\u001b[39m,\n\u001b[1;32m     10\u001b[0m         properties\u001b[38;5;241m=\u001b[39mjdbc_properties\n\u001b[1;32m     11\u001b[0m     )\n\u001b[1;32m     12\u001b[0m )\n",
      "\u001b[0;31mNameError\u001b[0m: name 'retail_df' is not defined"
     ]
    }
   ],
   "source": [
    "(\n",
    "    retail_df\n",
    "    .limit(10)\n",
    "    .write\n",
    "    .mode(\"append\")\n",
    "    .option(\"truncate\", \"true\")\n",
    "    .jdbc(\n",
    "        jdbc_url,\n",
    "        'public.sample_retail',\n",
    "        properties=jdbc_properties\n",
    "    )\n",
    ")"
   ]
  },
  {
   "cell_type": "code",
   "execution_count": 35,
   "id": "58e2aafe-7bd5-42e4-81dd-38122bc3cf1c",
   "metadata": {
    "tags": []
   },
   "outputs": [
    {
     "ename": "NameError",
     "evalue": "name 'retail_df' is not defined",
     "output_type": "error",
     "traceback": [
      "\u001b[0;31m---------------------------------------------------------------------------\u001b[0m",
      "\u001b[0;31mNameError\u001b[0m                                 Traceback (most recent call last)",
      "Cell \u001b[0;32mIn[35], line 1\u001b[0m\n\u001b[0;32m----> 1\u001b[0m \u001b[43mretail_df\u001b[49m\u001b[38;5;241m.\u001b[39mshow(\u001b[38;5;241m5\u001b[39m)\n",
      "\u001b[0;31mNameError\u001b[0m: name 'retail_df' is not defined"
     ]
    }
   ],
   "source": [
    "retail_df.show(5)"
   ]
  },
  {
   "cell_type": "code",
   "execution_count": 41,
   "id": "8a872cac-c10a-4a3e-b53f-6142628be3fb",
   "metadata": {
    "tags": []
   },
   "outputs": [
    {
     "name": "stdout",
     "output_type": "stream",
     "text": [
      "+-----------+-----------+--------------------+\n",
      "|customer_id|       name|               email|\n",
      "+-----------+-----------+--------------------+\n",
      "|          1|   John Doe| johndoe@example.com|\n",
      "|          2| Jane Smith|janesmith@example...|\n",
      "|          3|Bob Johnson|bobjohnson@exampl...|\n",
      "|          4|    Sue Lee|  suelee@example.com|\n",
      "|          5| Suikim Lee|suekimlee@example...|\n",
      "+-----------+-----------+--------------------+\n",
      "\n"
     ]
    }
   ],
   "source": [
    "customers_df.show()"
   ]
  },
  {
   "cell_type": "code",
   "execution_count": 42,
   "id": "41007186-40db-4435-8c5c-082110ae0a6c",
   "metadata": {
    "tags": []
   },
   "outputs": [
    {
     "data": {
      "text/plain": [
       "DataFrame[customer_id: int, name: string, email: string]"
      ]
     },
     "execution_count": 42,
     "metadata": {},
     "output_type": "execute_result"
    }
   ],
   "source": [
    "customers_df"
   ]
  }
 ],
 "metadata": {
  "kernelspec": {
   "display_name": "Python 3 (ipykernel)",
   "language": "python",
   "name": "python3"
  },
  "language_info": {
   "codemirror_mode": {
    "name": "ipython",
    "version": 3
   },
   "file_extension": ".py",
   "mimetype": "text/x-python",
   "name": "python",
   "nbconvert_exporter": "python",
   "pygments_lexer": "ipython3",
   "version": "3.10.10"
  }
 },
 "nbformat": 4,
 "nbformat_minor": 5
}
